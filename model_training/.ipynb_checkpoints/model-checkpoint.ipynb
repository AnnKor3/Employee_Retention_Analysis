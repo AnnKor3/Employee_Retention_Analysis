{
 "cells": [
  {
   "cell_type": "code",
   "execution_count": 10,
   "id": "e9917827-2e82-4a5f-b86e-c729cc75abcc",
   "metadata": {},
   "outputs": [
    {
     "ename": "SyntaxError",
     "evalue": "invalid syntax (236439601.py, line 1)",
     "output_type": "error",
     "traceback": [
      "\u001b[1;36m  File \u001b[1;32m\"C:\\Users\\annam\\AppData\\Local\\Temp\\ipykernel_31672\\236439601.py\"\u001b[1;36m, line \u001b[1;32m1\u001b[0m\n\u001b[1;33m    import Employee Retention Analysis\\\\data_processing.processing as processing\u001b[0m\n\u001b[1;37m                    ^\u001b[0m\n\u001b[1;31mSyntaxError\u001b[0m\u001b[1;31m:\u001b[0m invalid syntax\n"
     ]
    }
   ],
   "source": [
    "import Employee Retention Analysis\\\\data_processing.processing as processing"
   ]
  },
  {
   "cell_type": "code",
   "execution_count": 12,
   "id": "699fc71a-7483-4d71-a30e-c5f681e5bdba",
   "metadata": {},
   "outputs": [
    {
     "data": {
      "text/plain": [
       "'C:\\\\Users\\\\annam\\\\HR\\\\Employee Retention Analysis\\\\model_training'"
      ]
     },
     "execution_count": 12,
     "metadata": {},
     "output_type": "execute_result"
    }
   ],
   "source": [
    "pwd "
   ]
  },
  {
   "cell_type": "code",
   "execution_count": 14,
   "id": "e25a2476-12cd-4cd1-a3b5-148201806401",
   "metadata": {},
   "outputs": [
    {
     "name": "stdout",
     "output_type": "stream",
     "text": [
      "C:\\Users\\annam\n"
     ]
    }
   ],
   "source": [
    "cd"
   ]
  },
  {
   "cell_type": "code",
   "execution_count": 15,
   "id": "95b493a2-b60e-4fe9-934a-4e4fd7efca52",
   "metadata": {},
   "outputs": [],
   "source": [
    "import sys, os.path\n"
   ]
  },
  {
   "cell_type": "code",
   "execution_count": 16,
   "id": "18b914eb-bcd2-4eaf-b79b-f67328c030f2",
   "metadata": {},
   "outputs": [
    {
     "data": {
      "text/plain": [
       "<module 'ntpath' from 'C:\\\\Users\\\\annam\\\\anaconda3\\\\lib\\\\ntpath.py'>"
      ]
     },
     "execution_count": 16,
     "metadata": {},
     "output_type": "execute_result"
    }
   ],
   "source": [
    "os.path"
   ]
  },
  {
   "cell_type": "code",
   "execution_count": 17,
   "id": "7f779f80-f1f4-4aa0-b869-4c882bf0c283",
   "metadata": {},
   "outputs": [
    {
     "ename": "NameError",
     "evalue": "name '__file__' is not defined",
     "output_type": "error",
     "traceback": [
      "\u001b[1;31m---------------------------------------------------------------------------\u001b[0m",
      "\u001b[1;31mNameError\u001b[0m                                 Traceback (most recent call last)",
      "\u001b[1;32m~\\AppData\\Local\\Temp\\ipykernel_31672\\3021279229.py\u001b[0m in \u001b[0;36m<module>\u001b[1;34m\u001b[0m\n\u001b[0;32m      2\u001b[0m \u001b[1;33m\u001b[0m\u001b[0m\n\u001b[0;32m      3\u001b[0m \u001b[1;32mfrom\u001b[0m \u001b[0mos\u001b[0m\u001b[1;33m.\u001b[0m\u001b[0mpath\u001b[0m \u001b[1;32mimport\u001b[0m \u001b[0mdirname\u001b[0m\u001b[1;33m,\u001b[0m \u001b[0mjoin\u001b[0m\u001b[1;33m,\u001b[0m \u001b[0mabspath\u001b[0m\u001b[1;33m\u001b[0m\u001b[1;33m\u001b[0m\u001b[0m\n\u001b[1;32m----> 4\u001b[1;33m \u001b[0msys\u001b[0m\u001b[1;33m.\u001b[0m\u001b[0mpath\u001b[0m\u001b[1;33m.\u001b[0m\u001b[0minsert\u001b[0m\u001b[1;33m(\u001b[0m\u001b[1;36m0\u001b[0m\u001b[1;33m,\u001b[0m \u001b[0mabspath\u001b[0m\u001b[1;33m(\u001b[0m\u001b[0mjoin\u001b[0m\u001b[1;33m(\u001b[0m\u001b[0mdirname\u001b[0m\u001b[1;33m(\u001b[0m\u001b[0m__file__\u001b[0m\u001b[1;33m)\u001b[0m\u001b[1;33m,\u001b[0m \u001b[1;34m'..'\u001b[0m\u001b[1;33m)\u001b[0m\u001b[1;33m)\u001b[0m\u001b[1;33m)\u001b[0m\u001b[1;33m\u001b[0m\u001b[1;33m\u001b[0m\u001b[0m\n\u001b[0m\u001b[0;32m      5\u001b[0m \u001b[1;33m\u001b[0m\u001b[0m\n",
      "\u001b[1;31mNameError\u001b[0m: name '__file__' is not defined"
     ]
    }
   ],
   "source": [
    "import os, sys\n",
    "\n",
    "from os.path import dirname, join, abspath\n",
    "sys.path.insert(0, abspath(join(dirname(__file__), '..')))\n",
    "\n"
   ]
  },
  {
   "cell_type": "code",
   "execution_count": 20,
   "id": "930921a8-6f6b-4db1-8afc-b95f458018d3",
   "metadata": {},
   "outputs": [
    {
     "ename": "SyntaxError",
     "evalue": "invalid syntax (1551592994.py, line 1)",
     "output_type": "error",
     "traceback": [
      "\u001b[1;36m  File \u001b[1;32m\"C:\\Users\\annam\\AppData\\Local\\Temp\\ipykernel_31672\\1551592994.py\"\u001b[1;36m, line \u001b[1;32m1\u001b[0m\n\u001b[1;33m    import '..\\data\\\\WA_Fn-UseC_-HR-Employee-Attrition.csv'\u001b[0m\n\u001b[1;37m           ^\u001b[0m\n\u001b[1;31mSyntaxError\u001b[0m\u001b[1;31m:\u001b[0m invalid syntax\n"
     ]
    }
   ],
   "source": [
    "import '..\\data\\\\WA_Fn-UseC_-HR-Employee-Attrition.csv' "
   ]
  },
  {
   "cell_type": "code",
   "execution_count": null,
   "id": "134c3447-c455-4d05-9595-d9611e3b61d7",
   "metadata": {},
   "outputs": [],
   "source": [
    "    return pd.read_csv('..\\data\\\\WA_Fn-UseC_-HR-Employee-Attrition.csv')"
   ]
  },
  {
   "cell_type": "code",
   "execution_count": 26,
   "id": "c50e3e87-3b96-4779-9fad-8da7146637fa",
   "metadata": {
    "collapsed": true,
    "jupyter": {
     "outputs_hidden": true
    },
    "tags": []
   },
   "outputs": [
    {
     "data": {
      "text/plain": [
       "['C:\\\\Users\\\\annam\\\\HR\\\\Employee Retention Analysis\\\\model_training',\n",
       " 'C:\\\\Users\\\\annam\\\\anaconda3\\\\python39.zip',\n",
       " 'C:\\\\Users\\\\annam\\\\anaconda3\\\\DLLs',\n",
       " 'C:\\\\Users\\\\annam\\\\anaconda3\\\\lib',\n",
       " 'C:\\\\Users\\\\annam\\\\anaconda3',\n",
       " '',\n",
       " 'C:\\\\Users\\\\annam\\\\anaconda3\\\\lib\\\\site-packages',\n",
       " 'C:\\\\Users\\\\annam\\\\anaconda3\\\\lib\\\\site-packages\\\\win32',\n",
       " 'C:\\\\Users\\\\annam\\\\anaconda3\\\\lib\\\\site-packages\\\\win32\\\\lib',\n",
       " 'C:\\\\Users\\\\annam\\\\anaconda3\\\\lib\\\\site-packages\\\\Pythonwin',\n",
       " 'C:\\\\Users\\\\annam\\\\anaconda3\\\\lib\\\\site-packages\\\\IPython\\\\extensions',\n",
       " 'C:\\\\Users\\\\annam\\\\.ipython',\n",
       " '../',\n",
       " '..\\\\',\n",
       " '.\\\\',\n",
       " '.',\n",
       " '.']"
      ]
     },
     "execution_count": 26,
     "metadata": {},
     "output_type": "execute_result"
    }
   ],
   "source": [
    "import sys\n",
    "sys.path.append('.')\n",
    "\n",
    "sys.path"
   ]
  },
  {
   "cell_type": "code",
   "execution_count": 37,
   "id": "72346f5a-7562-4920-aec5-b4af3b4bd5d2",
   "metadata": {},
   "outputs": [],
   "source": [
    "import os, inspect"
   ]
  },
  {
   "cell_type": "code",
   "execution_count": 38,
   "id": "19d63bb8-5f17-4fba-8160-d01ff4dc0f75",
   "metadata": {},
   "outputs": [],
   "source": [
    "currentdir = os.path.dirname(os.path.abspath(inspect.getfile(inspect.currentframe())))\n"
   ]
  },
  {
   "cell_type": "code",
   "execution_count": 39,
   "id": "cb9576db-092d-41f2-8290-563b24045e4f",
   "metadata": {},
   "outputs": [
    {
     "data": {
      "text/plain": [
       "'C:\\\\Users\\\\annam\\\\AppData\\\\Local\\\\Temp\\\\ipykernel_29756'"
      ]
     },
     "execution_count": 39,
     "metadata": {},
     "output_type": "execute_result"
    }
   ],
   "source": [
    "currentdir"
   ]
  },
  {
   "cell_type": "code",
   "execution_count": 34,
   "id": "4c3b6b85-e21f-4908-bac5-c81f17686748",
   "metadata": {},
   "outputs": [
    {
     "data": {
      "text/plain": [
       "'C:\\\\Users\\\\annam\\\\AppData\\\\Local\\\\Temp'"
      ]
     },
     "execution_count": 34,
     "metadata": {},
     "output_type": "execute_result"
    }
   ],
   "source": [
    "os.path.dirname(currentdir)"
   ]
  },
  {
   "cell_type": "code",
   "execution_count": 35,
   "id": "01e5804d-f35f-47e3-b8a7-d9408eefa659",
   "metadata": {},
   "outputs": [
    {
     "data": {
      "text/plain": [
       "<module 'ntpath' from 'C:\\\\Users\\\\annam\\\\anaconda3\\\\lib\\\\ntpath.py'>"
      ]
     },
     "execution_count": 35,
     "metadata": {},
     "output_type": "execute_result"
    }
   ],
   "source": [
    "os.path"
   ]
  },
  {
   "cell_type": "code",
   "execution_count": 29,
   "id": "eb29a25b-5d56-4cb1-9053-740b47614c06",
   "metadata": {},
   "outputs": [],
   "source": [
    "import sys\n",
    "sys.path.append('./')"
   ]
  },
  {
   "cell_type": "code",
   "execution_count": 30,
   "id": "30b37882-62e3-40cc-b787-fd1762262609",
   "metadata": {},
   "outputs": [
    {
     "data": {
      "text/plain": [
       "'C:\\\\Users\\\\annam\\\\HR\\\\Employee Retention Analysis\\\\model_training'"
      ]
     },
     "execution_count": 30,
     "metadata": {},
     "output_type": "execute_result"
    }
   ],
   "source": [
    "pwd"
   ]
  },
  {
   "cell_type": "code",
   "execution_count": 34,
   "id": "e15ba970-ee19-4a9f-a236-c7167af51c08",
   "metadata": {},
   "outputs": [
    {
     "data": {
      "text/plain": [
       "['C:\\\\Users\\\\annam\\\\HR\\\\Employee Retention Analysis\\\\model_training',\n",
       " 'C:\\\\Users\\\\annam\\\\anaconda3\\\\python39.zip',\n",
       " 'C:\\\\Users\\\\annam\\\\anaconda3\\\\DLLs',\n",
       " 'C:\\\\Users\\\\annam\\\\anaconda3\\\\lib',\n",
       " 'C:\\\\Users\\\\annam\\\\anaconda3',\n",
       " '',\n",
       " 'C:\\\\Users\\\\annam\\\\anaconda3\\\\lib\\\\site-packages',\n",
       " 'C:\\\\Users\\\\annam\\\\anaconda3\\\\lib\\\\site-packages\\\\win32',\n",
       " 'C:\\\\Users\\\\annam\\\\anaconda3\\\\lib\\\\site-packages\\\\win32\\\\lib',\n",
       " 'C:\\\\Users\\\\annam\\\\anaconda3\\\\lib\\\\site-packages\\\\Pythonwin',\n",
       " 'C:\\\\Users\\\\annam\\\\anaconda3\\\\lib\\\\site-packages\\\\IPython\\\\extensions',\n",
       " 'C:\\\\Users\\\\annam\\\\.ipython',\n",
       " '..',\n",
       " '..',\n",
       " '.',\n",
       " '..',\n",
       " '...',\n",
       " \".'\",\n",
       " \"..'\",\n",
       " \"..\\\\'\",\n",
       " '.',\n",
       " '/',\n",
       " '//',\n",
       " './',\n",
       " 'C:\\\\Users\\\\annam\\\\HR\\\\Employee Retention Analysis']"
      ]
     },
     "execution_count": 34,
     "metadata": {},
     "output_type": "execute_result"
    }
   ],
   "source": [
    "sys.path"
   ]
  },
  {
   "cell_type": "code",
   "execution_count": 33,
   "id": "e8248e6a-7812-47cb-bc31-79c9835c9d6e",
   "metadata": {},
   "outputs": [],
   "source": [
    "sys.path.append(str(Path('.').absolute().parent))\n"
   ]
  },
  {
   "cell_type": "code",
   "execution_count": 32,
   "id": "586b4458-b9f4-4c62-8d9f-ce94d333c3c2",
   "metadata": {},
   "outputs": [],
   "source": [
    "from pathlib import Path"
   ]
  },
  {
   "cell_type": "code",
   "execution_count": 35,
   "id": "31316dcc-1d60-4ba3-b9fd-be0b551fe13c",
   "metadata": {},
   "outputs": [
    {
     "data": {
      "text/plain": [
       "'C:\\\\Users\\\\annam\\\\HR\\\\Employee Retention Analysis\\\\model_training'"
      ]
     },
     "execution_count": 35,
     "metadata": {},
     "output_type": "execute_result"
    }
   ],
   "source": [
    "pwd"
   ]
  },
  {
   "cell_type": "code",
   "execution_count": 40,
   "id": "1a9e3c09-d2cf-40b9-8d4e-a59210eb9d46",
   "metadata": {},
   "outputs": [
    {
     "data": {
      "text/plain": [
       "'C:\\\\Users\\\\annam\\\\HR\\\\Employee Retention Analysis\\\\model_training'"
      ]
     },
     "execution_count": 40,
     "metadata": {},
     "output_type": "execute_result"
    }
   ],
   "source": [
    "pwd"
   ]
  },
  {
   "cell_type": "code",
   "execution_count": 41,
   "id": "dd866ded-092a-434b-a3a4-b47d6bc62ebc",
   "metadata": {},
   "outputs": [
    {
     "name": "stdout",
     "output_type": "stream",
     "text": [
      "C:\\Users\\annam\\HR\\Employee Retention Analysis\n"
     ]
    }
   ],
   "source": [
    "%cd ..\n",
    "import data_processing.processing as processing"
   ]
  },
  {
   "cell_type": "code",
   "execution_count": null,
   "id": "0c3a18fa-425a-4173-90c9-8ce4cceb6140",
   "metadata": {},
   "outputs": [],
   "source": [
    "processing."
   ]
  }
 ],
 "metadata": {
  "kernelspec": {
   "display_name": "Python 3 (ipykernel)",
   "language": "python",
   "name": "python3"
  },
  "language_info": {
   "codemirror_mode": {
    "name": "ipython",
    "version": 3
   },
   "file_extension": ".py",
   "mimetype": "text/x-python",
   "name": "python",
   "nbconvert_exporter": "python",
   "pygments_lexer": "ipython3",
   "version": "3.9.13"
  }
 },
 "nbformat": 4,
 "nbformat_minor": 5
}
